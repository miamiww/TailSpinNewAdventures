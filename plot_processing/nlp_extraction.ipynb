{
 "cells": [
  {
   "cell_type": "code",
   "execution_count": 1,
   "metadata": {},
   "outputs": [],
   "source": [
    "import spacy"
   ]
  },
  {
   "cell_type": "code",
   "execution_count": 7,
   "metadata": {},
   "outputs": [],
   "source": [
    "nlp = spacy.load('en_core_web_md')"
   ]
  },
  {
   "cell_type": "code",
   "execution_count": 8,
   "metadata": {},
   "outputs": [],
   "source": [
    "plots = open('../scraping/plotsummaries.txt')"
   ]
  },
  {
   "cell_type": "code",
   "execution_count": 9,
   "metadata": {},
   "outputs": [
    {
     "data": {
      "text/plain": [
       "['A young orphan cub with a valuable jewel hooks up with an daring bush pilot against Air Pirates determined to recover it.\\n',\n",
       " \"It's bear vs machine when baloo enters a race against a robot pilot to prove that a good old fashioned pilot is better than a machine. The catch is, if he fails all of the pilots in Cape susette will be out of work.\\n\",\n",
       " 'Kit is anxious to tackle his first baby-sitting job, and he promises Rebecca that her daughter Molly is safe with him. However, the little girl turns out to be a handful!\\n',\n",
       " \"Baloo loses a client's cargo, incurring both Rebecca's charge that he can't follow instructions and a sightseeing tour to be run in strictest accordance to a schedule.\\n\",\n",
       " \"Rebecca's broken promises of time together have left Molly disillusioned and alienated. When Molly finds a homesick pet, she tries to be a surrogate mother for the little creature.\\n\",\n",
       " \"Rebecca takes over flying the Sea Duck after Baloo's license is temporarily suspended while trying to evade air pirates. The move causes havoc as Higher for Hire attempts to deliver a block of ice to a wealthy desert prince.\\n\",\n",
       " 'Covington pretends to romance Rebecca to obtain a doll which Molly makes difficult to get his hands on.\\n',\n",
       " 'Baloo and Kit buy the treasure chest of captain wan too many. Inside the chest is a smart mouthed parrot that Kit quickly becomes attached to and Baloo quickly becomes annoyed with. The parrot however knows of a hidden treasure and that makes him wanted by the fierce pirate don Karnage.\\n',\n",
       " \"Becky's latest money making scheme is to get into the sky writing business. However her ace pilot Baloo and her navigator Kit can't spell worth beans. This spells trouble when the syndicate are using hire for hire to write their hidden messages.\\n\",\n",
       " 'Baloo and kit search for a lost idol. Which surprisingly enough they actually find but it gets stolen by the evil little colonel Spigot. Can Baloo get it back by using the advice he gave Kit about using your brain instead of your brawn?\\n',\n",
       " \"When Baloo and Kit have a falling out over the riskiness of some of Kit's cloudsurfing stunts, Kit falls under the spell of Daring Dan and runs off to join Dan's air show.\\n\",\n",
       " 'Mistaken told that he is dying, Baloo decides to take a suicidally daring expedition into the Bermuda Trapezoid.\\n',\n",
       " \"When Baloo and Louie race into Higher for Hire with a frantic story of a ghost at Louie's, Rebecca doesn't believe it-just another excuse.\\n\",\n",
       " 'Kit and Baloo find a whale and turn it in for the reward. Later they find out the poor conditions the whale is forced to be in and decide to set him free.\\n',\n",
       " 'Baloo has a new get-rich-quick scheme: sell hot dogs at the Cape Suzette Friendship Festival, but Rebecca has another job for him: moving a piano to a house at the top of a hill.\\n',\n",
       " 'Rebecca decides to open a gas station in the air. Louie loses his customers to them and opens his own and they compete for customers.\\n',\n",
       " 'Planes and pilots and are mysteriously going missing. So Shere Kahn dupes the dimwitted Baloo and his sidekick Kit Cloudkicker to go on a dangerous mission as his decoys. Can Baloo do what all of the other pilots failed at? Should be no problem for the \"greatest pilot in the world\".\\n',\n",
       " 'In part two of this exciting adventure, Baloo and Kit are captured by the villainous Don Karnage and his gang of pirates. Baloo, however, is severely down in the dumps and out of confidence because of him crashing the Sea Duck into the ocean. It is now up to his faithful friend Kit to help pull him out of his depression and get them to escape.\\n',\n",
       " \"Baloo lets his pilot's license expire but is certain he'll have no problem renewing it. Throgmorton manages to fluster Baloo again, and our easy-going bear fails his pilot's test!\\n\",\n",
       " \"Baloo is hired to do a plane stunt for a movie. He becomes star struck and doesn't listen to Rebecca who is trying to save him from having an accident.\\n\",\n",
       " \"It's a lesson in not judging books by their covers for Rebecca. When she gets hired by the rich snobs Muffy and Buffy. Rebeca and Baloo get in big trouble when expensive diamonds go missing and the ownership of the seaduck becomes in jeopardy. Can Louie the monkey Becky misjudged save the day?\\n\",\n",
       " \"Rebecca's latest money making idea is to hunt for truffles using a pig.\\n\",\n",
       " \"After Baloo is bawled out by Rebecca for being too trusting, Rebecca turns around and is instantly trusting a complete stranger of her own, Jack Case, a man who claims he's a spy.\\n\",\n",
       " 'Baloo inherits a cursed castle.\\n',\n",
       " \"Professor O'Bowens gives Baloo and Kit the idol of the Spirit Switcher with instructions to never look at it during a thunderstorm. They do just that and end up switching bodies!\\n\",\n",
       " \"Baloo's childhood hero comes to work for hire for hire, but is he all he was cracked up to be?\\n\",\n",
       " \"Baloo's favorite record gets smashed and it turns out there's only one more record like it in the entire world and it's priced at $100. The problem is that his little buddy Kit only has $50 to lend him. Rather than work for the other $50, Baloo promises to turn Kit's money into a fortune the easy way, and give Kit double his money back!\\n\",\n",
       " 'Frustrated with the beating his reputation is taking because he works for a woman, Baloo makes an effort to free himself and the Sea Duck by winning a famous local air race.\\n',\n",
       " 'In search of glory Baloo searches for the city beyond the last horizon. After finding it he unknowingly puts cape Suzette in grave danger.\\n',\n",
       " 'Wildcat babysits Molly, and the two find out they have a lot in common - particularly their active imaginations. After Wildcat reads Molly a story, \"Flight of the Snow Duck,\" Molly wants to see snow.\\n',\n",
       " \"Baloo saves Kahn's life and in turn Kahn promises Baloo anything he wants. Trouble soon follows when Baloo lets his greed get the better of him!\\n\",\n",
       " 'When Baloo loses his memory of his piloting skills, only a mysterious old flight instructor can restore them.\\n',\n",
       " 'Rebecca lines up delivery jobs galore for Baloo, but the \"overworked\" bear has his heart set on two weeks\\' vacation.\\n',\n",
       " \"Kit's friend, the nerdish Oscar Van Der Snoot, is rejected for membership into the Jungle Aces Secret Midnight Club because he hasn't had an adventure.\\n\",\n",
       " \"When orphan Kit Cloudkicker steals a gem-like treasure from Don Karnage & his Air Pirates, he is chased to Louie's Island where he meets Baloo the Bear, a carefree cargo pilot.\\n\",\n",
       " 'Baloo misses the deadline to pay off his mortgage, so a perky young businesswoman named Rebecca Cunningham buys the tiny cargo company.\\n',\n",
       " 'Kit & Baloo decide to rescue Rebecca & Molly from the Air Pirates. But while sneaking into the lair, they discover Don Karnage\\'s plan to use the gem for a \"lightning gun.\"\\n',\n",
       " \"Still smarting from Kit's presumed betrayal, Baloo quits his job and flies away. Meanwhile, Don Karnage attacks Cape Suzette with his lightning gun, destroying all their defenses.\\n\",\n",
       " \"Baloo wants to go to a big party at Louie's on Friday, but he can't afford it because he's broke and payday isn't until Saturday. Solution: convince Rebecca Friday is really Saturday.\\n\",\n",
       " 'Vacationing Baloo and Louie swear off women and crazy treasure hunts. Then they meet Katie the archeologist in distress. They help protect her from villains as she searches for a buried lost city.\\n',\n",
       " 'After swearing off women and treasure hunting, Baloo and Louie are instantly caught up with Katie Dodd, archaeologist, and her hunt for the Lost City Of Khine.\\n',\n",
       " 'Caught in a speed trap over a small isolated mining town, the Sea Duck is confiscated and Baloo, Kit and Wildcat are put to work mining the rare and highly explosive mineral Yurgonium.\\n',\n",
       " \"In order to squeeze into his tuxedo so he can escort Rebecca to the Pilot's Ball, Baloo has to shed a few pounds. He decides to visit a famous fat farm, the Elizabeth Tapir Center.\\n\",\n",
       " \"To convince a disbelieving Molly there really is a Santa Claus, Baloo flies her to the 'North Pole' to deliver her letter to 'Santa' in person.\\n\",\n",
       " \"When Rebecca can't get a date for the Cape Suzette Businessmen's Ball she is forced to take Baloo. But Baloo screws up at the ritzy party, causing Rebecca great embarrassment.\\n\",\n",
       " 'While delivering paper weights for princess Grace, Baloo runs into an old pilot rival plain Jane. Then it becomes a race to see who can retrieve the ruby wings first.\\n',\n",
       " 'Kit is reprimanded by Baloo for being \"too young to fly,\" but a Thembrian pilot informs Kit that Thembria has just lowered their flying age to 12.\\n',\n",
       " \"It's misunderstandings and mix ups galore when Becky gets Baloo to transport dangerous criminal baby face from prison.\\n\",\n",
       " \"When Karnage spots Baloo flying onto the Cliff Gun Embankments to deliver sandwiches for Louie's catering business, Karnage's pirates steal the Sea Duck and use it to infiltrate.\\n\",\n",
       " 'Baloo and Wildcat come to the aid of a client, an Aridian archeologist, after she is attacked by Don Karnage. They help find her a pyramid, mysteriously buried in the ground.\\n',\n",
       " \"To please Shere Khan, junior executive Douglas Benson decides to take over Louie's profitable island - by force if necessary.\\n\",\n",
       " \"When Baloo doesn't get invited to his grade school reunion, he heads back to school to get his diploma.\\n\",\n",
       " 'Baloo and Louie go into the pizza delivery business in hopes of making big bucks!\\n',\n",
       " \"When Baloo's friend Buzz, an inventor at Khan Industries, overhears someone plotting to steal his invention, he seizes the invention for safe keeping until he can warn his boss.\\n\",\n",
       " 'Kit\\'s peers at the Jungle Aces Clubhouse are enthralled with \"Bullethead\" - a futuristic, Commando Cody-like comic book hero.\\n',\n",
       " 'A fortune-teller tells Baloo he must fulfill his \"destiny\" to find and destroy the powerful \"Idol of Doom\" before arch-villain, El Gato.\\n',\n",
       " \"Baloo's faces old flying rival the blowhard boaster Ace London. Ace London dupes Baloo at every turn but who when the two's cargo gets mixed up Baloo the fur flies.\\n\",\n",
       " \"During a brawl in the Sea Duck's cargo hold, Baloo and Don Karnage are splashed by a vat of super glue - and much to their disgust, find themselves stuck together.\\n\",\n",
       " 'Wildcat finds a glass tank filled with cute, furry little beasts and takes them in as his pets.\\n',\n",
       " \"All hell breaks loose at Louie's when his aunt, Louise L'Amour comes to visit. Baloo and the gang just adore her, but Louie is driven to the brink as Aunt Louise's wild partying.\\n\",\n",
       " 'Baloo and Louie crash-land outside the walled gates of Macadamia where they are cheated out of cash and cargo by the local Richelieu, Chancellor Trample. This means war!\\n',\n",
       " 'Rebecca wins $100,000 in the Pazuza Super Mail Sweepstakes and she needs Baloo to mail her winning ticket by the deadline.\\n',\n",
       " 'When a safari guide tells Baloo of a lost valley of prehistoric proportions, Baloo sees dinosaur-sized profit to be made.\\n',\n",
       " \"While snooping around an old building, Molly falls into an eccentric scientist's lab. There she gets caught in the doctor's shrinking ray and is reduced to a quarter-inch tall.\\n\",\n",
       " 'Baloo rescues a pilot who claims to be Rick Sky, the flying ace from the Great War. When Rick learns of his reputation, he steals the Sea Duck and sets out to clear his name.\\n',\n",
       " \"Baloo is enlisted to deliver a Housewarming Present to the Thembrian High Marshall's new Summer Home not knowing he's actually been duped into delivering a ticking bomb.\\n\"]"
      ]
     },
     "execution_count": 9,
     "metadata": {},
     "output_type": "execute_result"
    }
   ],
   "source": [
    "[line for line in open('../scraping/plotsummaries.txt')]"
   ]
  },
  {
   "cell_type": "code",
   "execution_count": null,
   "metadata": {},
   "outputs": [],
   "source": []
  }
 ],
 "metadata": {
  "kernelspec": {
   "display_name": "venv_tsna",
   "language": "python",
   "name": "venv_tsna"
  },
  "language_info": {
   "codemirror_mode": {
    "name": "ipython",
    "version": 3
   },
   "file_extension": ".py",
   "mimetype": "text/x-python",
   "name": "python",
   "nbconvert_exporter": "python",
   "pygments_lexer": "ipython3",
   "version": "3.6.5"
  }
 },
 "nbformat": 4,
 "nbformat_minor": 2
}
