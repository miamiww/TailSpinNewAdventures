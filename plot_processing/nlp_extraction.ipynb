{
 "cells": [
  {
   "cell_type": "code",
   "execution_count": 1,
   "metadata": {},
   "outputs": [],
   "source": [
    "from shmarkov import *"
   ]
  },
  {
   "cell_type": "code",
   "execution_count": 2,
   "metadata": {},
   "outputs": [
    {
     "data": {
      "text/plain": [
       "[\"Baloo wants to go to a big party at Louie's Island where he meets Baloo to transport dangerous criminal baby \",\n",
       " \"Kit's friend, the nerdish Oscar Van Der Snoot, is rejected for membership into the ocean. It is now up to his\",\n",
       " \"Mistaken told that he can't follow instructions to never look at it during a thunderstorm. They do just that \",\n",
       " \"Baloo saves Kahn's life and in turn Kahn promises Baloo and Louie race into Higher for Hire with a frantic st\",\n",
       " \"Rebecca doesn't listen to Rebecca that her daughter Molly is safe with him. However her ace pilot Baloo and L\",\n",
       " \"Professor O'Bowens gives Baloo and Kit are captured by the rich snobs Muffy and Buffy. Rebeca and Baloo find \",\n",
       " 'Caught in a speed trap over a small isolated mining the rare and highly explosive mineral Yurgonium.',\n",
       " \"Covington pretends to romance Rebecca to the Pilot's Ball, Baloo quits his job and flies away. Meanwhile, Don\",\n",
       " \"Baloo saves Kahn's life and in turn Kahn promises of time together have left Molly disillusioned and alienate\",\n",
       " 'Covington pretends to romance Rebecca to obtain a doll which Molly makes difficult to get his diploma.',\n",
       " 'When a safari guide tells Baloo he must fulfill his \"destiny\" to find and destroy the powerful \"Idol of Doom\"',\n",
       " 'After swearing off women and crazy treasure chest of captain wan too many. Inside the walled gates of Macadam',\n",
       " \"Baloo and Louie go into the Jungle Aces Secret Midnight Club because he hasn't had an adventure.\",\n",
       " 'Kit & Baloo decides to visit a famous fat farm, the Elizabeth Tapir Center.',\n",
       " 'Planes and pilots and are mysteriously going missing. So Shere Kahn dupes the dimwitted Baloo and Wildcat are',\n",
       " \"Rebecca's broken promises Rebecca great embarrassment.\",\n",
       " \"After Baloo's license is temporarily suspended while trying to save him from having an accident.\",\n",
       " \"All hell breaks loose at Louie's when his aunt, Louise L'Amour comes to visit. Baloo and Don Karnage and his \",\n",
       " \"To convince a disbelieving Molly there really is a Santa Claus, Baloo flies her to the 'North Pole' to delive\",\n",
       " 'During a brawl in the Sea Duck and use it to infiltrate.']"
      ]
     },
     "execution_count": 2,
     "metadata": {},
     "output_type": "execute_result"
    }
   ],
   "source": [
    "markov_generate_from_lines_in_file(9, open(\"../scraping/plotsummaries.txt\"), 50, \"char\")"
   ]
  },
  {
   "cell_type": "code",
   "execution_count": 10,
   "metadata": {},
   "outputs": [
    {
     "data": {
      "text/plain": [
       "['When Baloo and the Sea Duck and use it to infiltrate.',\n",
       " 'While snooping around and is instantly caught up with an daring bush pilot against Air Pirates, he is chased ',\n",
       " 'Kit and Baloo quickly becomes annoyed with. The parrot however knows of a hidden treasure hunts. Then they me',\n",
       " \"Becky's latest money making scheme is to get into the lair, they discover Don Karnage are splashed by a vat o\",\n",
       " \"A fortune-teller tells Baloo of a lost valley of prehistoric proportions, Baloo flies her to the 'North Pole'\",\n",
       " 'While delivering a ticking bomb.',\n",
       " \"During a brawl in the Sea Duck's cargo hold, Baloo and Kit buy the treasure chest of captain wan too many. In\",\n",
       " \"Baloo rescues a pilot who claims he's a spy.\",\n",
       " \"Kit's friend Buzz, an inventor at Khan Industries, overhears someone plotting to steal his invention for safe\",\n",
       " \"Kit's friend Buzz, an inventor at Khan Industries, overhears someone plotting to steal his invention, he stea\",\n",
       " 'Planes and pilots and are mysterious old flight instructor can restore them.',\n",
       " 'Kit is reprimanded by Baloo for being too trusting a complete stranger of her own, Jack Case, a man who claim',\n",
       " \"After Baloo's favorite record gets smashed and it turns out to be a handful!\",\n",
       " 'Baloo and Kit the idol of the other pilots failed at? Should be no problem is that his little buddy Kit only ',\n",
       " 'Kit is anxious to tackle his first baby-sitting job, and he promises Rebecca & Molly from the Air Pirates, he',\n",
       " 'In part two of this exciting adventure, Baloo and Louie swear off women and crazy treasure chest of captain w',\n",
       " 'Frustrated with the beating his reputation, he steals the Sea Duck by winning ticket by the deadline to pay o',\n",
       " 'When a safari guide tells Baloo he must fulfill his \"destiny\" to find and destroy the powerful \"Idol of Doom\"',\n",
       " \"Wildcat finds a homesick pet, she tries to be a surrogate mother for the little girl turns out there's only o\",\n",
       " 'Kit is reprimanded by Baloo for being \"too young to fly,\" but a Thembria has just lowered their flying ace fr',\n",
       " 'Baloo and Louie crash-land outside the walled gates of Macadamia where they are cheated out of confidence bec',\n",
       " 'Baloo and his sidekick Kit Cloudkicker to go on a dangerous criminal baby face from the Great War. When Rick ',\n",
       " \"All hell breaks loose at Louie's when his aunt, Louise L'Amour comes to visit. Baloo and Kit the idol of the \",\n",
       " \"Baloo's childhood hero comes to work for hire for hire for hire, but is he all he was cracked up to be?\",\n",
       " 'Baloo inherits a cursed castle.',\n",
       " 'While snooping around and is instantly caught up with an daring bush pilot against Air Pirates determined to ',\n",
       " 'Caught in a speed trap over a small isolated mining town, the Sea Duck and use it to infiltrate.',\n",
       " 'Baloo and Don Karnage and his sidekick Kit Cloudkicker steals a gem-like treasure and that makes him wanted b',\n",
       " 'In order to squeeze into his tuxedo so he can escort Rebecca & Molly from the Great War. When Rick learns of ',\n",
       " 'It\\'s misunderstandings and mix ups galore for Baloo, but the \"overworked\" bear has his heart set on two weeks',\n",
       " 'While snooping around an old building, Molly falls into an old pilot rival plain Jane. Then it becomes annoye',\n",
       " 'Rebecca wins $100,000 in the Pazuza Super Mail Sweepstakes and she needs Baloo the Bear, a carefree cargo pil',\n",
       " \"Wildcat babysits Molly, and the ownership of the seaduck becomes star struck and doesn't get invited to his g\",\n",
       " 'Covington pretends to romance Rebecca for being \"too young to fly,\" but a Thembrian High Marshall\\'s new Summe',\n",
       " 'Baloo and Kit buy the treasure from Don Karnage attacks Cape Suzette Friendship Festival, but Rebecca great e',\n",
       " \"Rebecca doesn't get invited to his grade school reunion, he heads back to school to get his diploma.\",\n",
       " 'While delivering paper weights for princess Grace, Baloo and Kit have a falling out over the riskiness of som',\n",
       " 'When orphan Kit Cloudkicker to go on a dangerous mission as his decoys. Can Baloo do what all of the pilots i',\n",
       " 'Planes and pilots and are mysteriously buried in the ground.',\n",
       " 'Baloo and Don Karnage and his gang of pirates. The move causes havoc as Higher for Hire attempts to deliver s',\n",
       " 'A young orphan cub with a valuable jewel hooks up with an daring bush pilot against a robot pilot to prove th',\n",
       " \"Mistaken told that he can't follow instructions and a sightseeing tour to be run in strictest accordance to a\",\n",
       " \"Becky's latest money making scheme is to get into the ocean. It is now up to his faithful friend Kit to help \",\n",
       " 'When Baloo and kit search for a lost idol. Which surprisingly enough they actually been duped into deliver a ',\n",
       " 'Wildcat finds a glass tank filled with cute, furry little beasts and takes them in as his pets.',\n",
       " \"Baloo's favorite record gets smashed and it turns out there's only one more record like it in the entire worl\",\n",
       " \"It's a lesson in not judging books by their covers for Rebecca. When she gets caught in a speed trap over a s\",\n",
       " 'Rebecca wins $100,000 in the Pazuza Super Mail Sweepstakes and she needs Baloo to transport dangerous crimina',\n",
       " 'When Baloo and kit search for a lost idol. Which surprisingly enough they actually find but it gets stolen by',\n",
       " 'When Baloo anything he wants. Trouble soon follows when Baloo do what all of the Spirit Switcher with instruc']"
      ]
     },
     "execution_count": 10,
     "metadata": {},
     "output_type": "execute_result"
    }
   ],
   "source": [
    "markov_generate_from_lines_in_file(9, open(\"../scraping/plotsummaries.txt\"), 50, \"char\")"
   ]
  },
  {
   "cell_type": "code",
   "execution_count": 2,
   "metadata": {},
   "outputs": [],
   "source": [
    "import spacy"
   ]
  },
  {
   "cell_type": "code",
   "execution_count": 3,
   "metadata": {},
   "outputs": [],
   "source": [
    "nlp = spacy.load('en_core_web_md')"
   ]
  },
  {
   "cell_type": "code",
   "execution_count": 4,
   "metadata": {},
   "outputs": [],
   "source": [
    "plots = open('../scraping/plotsummaries.txt')"
   ]
  },
  {
   "cell_type": "code",
   "execution_count": 6,
   "metadata": {},
   "outputs": [],
   "source": [
    "plot_lines = [line for line in open('../scraping/plotsummaries.txt')]"
   ]
  },
  {
   "cell_type": "code",
   "execution_count": 12,
   "metadata": {},
   "outputs": [],
   "source": [
    "all_plot = ' '.join(plot_lines)"
   ]
  },
  {
   "cell_type": "code",
   "execution_count": 16,
   "metadata": {},
   "outputs": [],
   "source": [
    "models = [ nlp(item) for item in plot_lines]"
   ]
  },
  {
   "cell_type": "code",
   "execution_count": 24,
   "metadata": {},
   "outputs": [],
   "source": [
    "model = nlp(all_plot)"
   ]
  },
  {
   "cell_type": "code",
   "execution_count": 39,
   "metadata": {},
   "outputs": [
    {
     "data": {
      "text/plain": [
       "154"
      ]
     },
     "execution_count": 39,
     "metadata": {},
     "output_type": "execute_result"
    }
   ],
   "source": [
    "from spacy.symbols import nsubj, VERB\n",
    "verbs = []\n",
    "for possible_verb in model:\n",
    "    if possible_verb.pos == VERB:\n",
    "        for possible_subject in possible_verb.children:\n",
    "            if possible_subject.dep == nsubj:\n",
    "                verbs.append(possible_verb)\n",
    "                break\n",
    "len(verbs)"
   ]
  },
  {
   "cell_type": "code",
   "execution_count": 46,
   "metadata": {},
   "outputs": [],
   "source": [
    "f=open(\"verbs.txt\",'w')\n",
    "for verb in verbs:\n",
    "    f.write(verb.text + \"\\n\")\n",
    "f.close()"
   ]
  },
  {
   "cell_type": "code",
   "execution_count": 38,
   "metadata": {},
   "outputs": [
    {
     "data": {
      "text/plain": [
       "385"
      ]
     },
     "execution_count": 38,
     "metadata": {},
     "output_type": "execute_result"
    }
   ],
   "source": [
    "from spacy.symbols import NOUN\n",
    "nouns = []\n",
    "for possible_noun in model:\n",
    "    if possible_noun.pos == NOUN:\n",
    "        nouns.append(possible_noun)\n",
    "len(nouns)"
   ]
  },
  {
   "cell_type": "code",
   "execution_count": 47,
   "metadata": {},
   "outputs": [],
   "source": [
    "f=open(\"nouns.txt\",'w')\n",
    "for noun in nouns:\n",
    "    f.write(noun.text + \"\\n\")\n",
    "f.close()"
   ]
  },
  {
   "cell_type": "code",
   "execution_count": 37,
   "metadata": {},
   "outputs": [
    {
     "data": {
      "text/plain": [
       "172"
      ]
     },
     "execution_count": 37,
     "metadata": {},
     "output_type": "execute_result"
    }
   ],
   "source": [
    "from spacy.symbols import ADJ\n",
    "adjectives = []\n",
    "for possible_adjective in model:\n",
    "    if possible_adjective.pos == ADJ:\n",
    "        adjectives.append(possible_adjective)\n",
    "len(adjectives)"
   ]
  },
  {
   "cell_type": "code",
   "execution_count": 48,
   "metadata": {},
   "outputs": [],
   "source": [
    "f=open(\"adjectives.txt\",'w')\n",
    "for adjective in adjectives:\n",
    "    f.write(adjective.text + \"\\n\")\n",
    "f.close()"
   ]
  },
  {
   "cell_type": "code",
   "execution_count": 36,
   "metadata": {},
   "outputs": [
    {
     "data": {
      "text/plain": [
       "92"
      ]
     },
     "execution_count": 36,
     "metadata": {},
     "output_type": "execute_result"
    }
   ],
   "source": [
    "from spacy.symbols import ADV\n",
    "adverbs = []\n",
    "for possible_adverb in model:\n",
    "    if possible_adverb.pos == ADV:\n",
    "        adverbs.append(possible_adverb)\n",
    "len(adverbs)"
   ]
  },
  {
   "cell_type": "code",
   "execution_count": 49,
   "metadata": {},
   "outputs": [],
   "source": [
    "f=open(\"adverbs.txt\",'w')\n",
    "for adverb in adverbs:\n",
    "    f.write(adverb.text + \"\\n\")\n",
    "f.close()"
   ]
  },
  {
   "cell_type": "code",
   "execution_count": null,
   "metadata": {},
   "outputs": [],
   "source": []
  },
  {
   "cell_type": "code",
   "execution_count": null,
   "metadata": {},
   "outputs": [],
   "source": []
  }
 ],
 "metadata": {
  "kernelspec": {
   "display_name": "Python [conda root]",
   "language": "python",
   "name": "conda-root-py"
  },
  "language_info": {
   "codemirror_mode": {
    "name": "ipython",
    "version": 3
   },
   "file_extension": ".py",
   "mimetype": "text/x-python",
   "name": "python",
   "nbconvert_exporter": "python",
   "pygments_lexer": "ipython3",
   "version": "3.5.3"
  }
 },
 "nbformat": 4,
 "nbformat_minor": 2
}
