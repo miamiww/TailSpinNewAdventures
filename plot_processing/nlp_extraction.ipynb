{
 "cells": [
  {
   "cell_type": "code",
   "execution_count": 12,
   "metadata": {},
   "outputs": [],
   "source": [
    "from shmarkov import *"
   ]
  },
  {
   "cell_type": "code",
   "execution_count": 2,
   "metadata": {},
   "outputs": [
    {
     "data": {
      "text/plain": [
       "[\"Baloo wants to go to a big party at Louie's Island where he meets Baloo to transport dangerous criminal baby \",\n",
       " \"Kit's friend, the nerdish Oscar Van Der Snoot, is rejected for membership into the ocean. It is now up to his\",\n",
       " \"Mistaken told that he can't follow instructions to never look at it during a thunderstorm. They do just that \",\n",
       " \"Baloo saves Kahn's life and in turn Kahn promises Baloo and Louie race into Higher for Hire with a frantic st\",\n",
       " \"Rebecca doesn't listen to Rebecca that her daughter Molly is safe with him. However her ace pilot Baloo and L\",\n",
       " \"Professor O'Bowens gives Baloo and Kit are captured by the rich snobs Muffy and Buffy. Rebeca and Baloo find \",\n",
       " 'Caught in a speed trap over a small isolated mining the rare and highly explosive mineral Yurgonium.',\n",
       " \"Covington pretends to romance Rebecca to the Pilot's Ball, Baloo quits his job and flies away. Meanwhile, Don\",\n",
       " \"Baloo saves Kahn's life and in turn Kahn promises of time together have left Molly disillusioned and alienate\",\n",
       " 'Covington pretends to romance Rebecca to obtain a doll which Molly makes difficult to get his diploma.',\n",
       " 'When a safari guide tells Baloo he must fulfill his \"destiny\" to find and destroy the powerful \"Idol of Doom\"',\n",
       " 'After swearing off women and crazy treasure chest of captain wan too many. Inside the walled gates of Macadam',\n",
       " \"Baloo and Louie go into the Jungle Aces Secret Midnight Club because he hasn't had an adventure.\",\n",
       " 'Kit & Baloo decides to visit a famous fat farm, the Elizabeth Tapir Center.',\n",
       " 'Planes and pilots and are mysteriously going missing. So Shere Kahn dupes the dimwitted Baloo and Wildcat are',\n",
       " \"Rebecca's broken promises Rebecca great embarrassment.\",\n",
       " \"After Baloo's license is temporarily suspended while trying to save him from having an accident.\",\n",
       " \"All hell breaks loose at Louie's when his aunt, Louise L'Amour comes to visit. Baloo and Don Karnage and his \",\n",
       " \"To convince a disbelieving Molly there really is a Santa Claus, Baloo flies her to the 'North Pole' to delive\",\n",
       " 'During a brawl in the Sea Duck and use it to infiltrate.']"
      ]
     },
     "execution_count": 2,
     "metadata": {},
     "output_type": "execute_result"
    }
   ],
   "source": [
    "markov_generate_from_lines_in_file(9, open(\"../scraping/plotsummaries.txt\"), 50, \"char\")"
   ]
  },
  {
   "cell_type": "code",
   "execution_count": 14,
   "metadata": {},
   "outputs": [
    {
     "data": {
      "text/plain": [
       "['Frustrated with the beating his reputation, he steals the Sea Duck and use it to infiltrate.',\n",
       " 'After swearing off women and crazy treasure hunting, Baloo decide to rescue Rebecca has another excuse.',\n",
       " \"Baloo's childhood hero comes to visit. Baloo and her navigator Kit can't spell worth beans. This spells trouble when the syndicate are using hire for hire for hire, but is he all he was cracked up to be?\",\n",
       " \"Rebecca's broken promises to turn Kit's money into a fortune the easy way, and give Kit double his money back!\",\n",
       " 'Kit is anxious to tackle his first baby-sitting job, and he promises Rebecca takes over flying age to 12.',\n",
       " 'Planes and pilots and are mysteriously buried in the ground.',\n",
       " \"Rebecca doesn't listen to Rebecca Cunningham buys the tiny cargo company.\",\n",
       " 'When orphan Kit Cloudkicker to go on a dangerous criminal baby face from prison.',\n",
       " 'Rebecca\\'s broken promises Rebecca Friday is really Saturday. Solution: convince Rebecca that her daughter Molly is safe with his lightning gun.\"',\n",
       " 'Baloo inherits a cursed castle.',\n",
       " 'Kit is reprimanded by Baloo for being \"too young to fly,\" but a Thembria has just lowered their flying the Sea Duck after Baloo is enlisted to delivering a ticking bomb.',\n",
       " \"Wildcat babysits Molly, and the ownership of the seaduck becomes annoyed with. The parrot however knows of a hidden treasure hunts. Then they meet Katie the archeologist, and her navigator Kit can't spell worth beans. This spells trouble when the syndicate are using hire for hire to write their hidden messag\",\n",
       " \"To convince a disbelieving Molly there really is a Santa Claus, Baloo flies her to the 'North Pole' to deliver a Housewarming Present to the Thembria has just lowered their flying age to 12.\",\n",
       " \"Rebecca's charge that he is dying, Baloo and Wildcat come to the aid of a client, an Aridian archeologist, after she is attacked by Don Karnage and his gang of pirates. But while sneaking into the Jungle Aces Clubhouse are enthralled with cute, furry little beasts and takes them in as his pets.\",\n",
       " \"When Baloo doesn't listen to Rebecca great embarrassment.\",\n",
       " 'Baloo misses the deadline to pay off his mortgage, so a perky young business. However her ace pilot Baloo and her hunt for truffles using a pig.',\n",
       " \"Still smarting from Kit's presumed betrayal, Baloo has a new get-rich-quick scheme: sell hot dogs at the Cape Suzette with him. However, the little creature.\",\n",
       " \"Wildcat babysits Molly, and the Sea Duck's cargo gets mixed up Baloo the fur flies.\",\n",
       " \"While delivering paper weights for princess Grace, Baloo runs into an old pilot rival plain Jane. Then it becomes annoyed with. The parrot however knows of a hidden treasure chest of captain wan too many. Inside the walled gates of Macadamia where they are cheated out of confidence because he hasn't had an a\",\n",
       " 'To convince Rebecca to obtain a doll which Molly makes difficult to get his diploma.',\n",
       " 'When orphan Kit Cloudkicker to go on a dangerous mission as his decoys. Can Baloo get it back by using the advice he gave Kit about using your brain instead of your brain instead of your brain instead of your brain instead of your brain instead of your brawn?',\n",
       " \"Vacationing Baloo and Don Karnage's pirates steal the Sea Duck and use it to infiltrate.\",\n",
       " 'While snooping around and is instantly trusting, Rebecca takes over flying the Sea Duck is confiscated and Baloo find a whale and turn it in for the Cape Suzette in grave danger.',\n",
       " \"Becky's latest money making idea is to hunt for truffles using a pig.\",\n",
       " \"All hell breaks loose at Louie's on Friday, but he can't afford it because he works for a woman, Baloo makes an effort to free himself and the gang just adore her, but Louie is driven to the brink as Aunt Louise's wild partying.\",\n",
       " 'Baloo wants to see snow.',\n",
       " 'Wildcat babysits Molly, and the ownership of the seaduck becomes in jeopardy. Can Louie the monkey Becky misjudged save the day?',\n",
       " 'Rebecca wins $100,000 in the Pazuza Super Mail Sweepstakes and she needs Baloo to mail her winning ticket by the deadline.',\n",
       " 'Baloo loses his customers to them and opens his own and they compete for customers.',\n",
       " \"Becky's latest money making idea is to hunt for truffles using a pig.\",\n",
       " 'When Baloo enters a race to see who can retrieve the ruby wings first.',\n",
       " \"Baloo is bawled out by Rebecca can't get a date for the city beyond the last horizon. After finding it he unknowingly puts cape Suzette Friendship Festival, but Rebecca can't get a date for the other $50, Baloo promises Rebecca turns around an old building, Molly falls into an eccentric scientist's lab. Ther\",\n",
       " 'Caught in a speed trap over a small isolated mining the rare and highly explosive mineral Yurgonium.',\n",
       " \"All hell breaks loose at Louie's, Rebecca to the Pilot's Ball, Baloo has to shed a few pounds. He decides to take over Louie's on Friday, but he can't follow instructions and a sightseeing tour to be run in strictest accordance to a schedule.\",\n",
       " \"Planes and pilots and are mysteriously going missing. So Shere Kahn dupes the dimwitted Baloo and Louie crash-land outside the chest is a smart mouthed parrot that Kit quickly becomes attached to and Baloo, Kit and Wildcat come to the aid of a client's cargo, incurring both Rebecca's broken promises of time \",\n",
       " \"All hell breaks loose at Louie's profitable island - by force if necessary.\",\n",
       " 'Professor O\\'Bowens gives Baloo and Kit the idol of the Snow Duck,\" Molly wants to see snow.',\n",
       " 'When Baloo do what all of the Spirit Switcher with instructor can restore them.',\n",
       " \"Baloo's faces old flying rival the blowhard boaster Ace London. Ace London. Ace London dupes Baloo at every turn but who when the two's cargo gets mixed up Baloo the Bear, a carefree cargo pilot.\",\n",
       " \"During a brawl in the Sea Duck's cargo gets mixed up Baloo the Bear, a carefree cargo pilot.\",\n",
       " 'In order to squeeze into his tuxedo so he can escort Rebecca turns around and is instantly trusting, Rebecca who is trying to save him from having an accident.',\n",
       " \"Vacationing Baloo and the gang just adore her, but Louie is driven to the brink as Aunt Louise's wild partying.\",\n",
       " 'Rebecca lines up delivery business in hopes of making big bucks!',\n",
       " 'Rebecca\\'s latest money making idea is to hunt for the \"greatest pilot in the entire world and it\\'s priced at $100. The problem renewing it. Throgmorton manages to fluster Baloo again, and our easy-going bear fails his piloting skills, only a mysteriously going missing. So Shere Kahn dupes the dimwitted Baloo',\n",
       " \"Covington pretends to romance Rebecca can't get a date for the Lost City Of Khine.\",\n",
       " 'A young orphan cub with a valuable jewel hooks up with an daring bush pilot against a robot pilot to prove that a good old fashioned pilot is better than a machine. The catch is, if he fails all of the pilots in Cape susette will be out of work.',\n",
       " \"Kit's friend, the nerdish Oscar Van Der Snoot, is rejected for membership into the Bermuda Trapezoid.\",\n",
       " \"Planes and pilots and are mysteriously going missing. So Shere Kahn dupes the dimwitted Baloo anything he wants. Trouble soon follows when Baloo loses a client, an Aridian archeologist, and her navigator Kit can't spell worth beans. This spells trouble when the two's cargo gets mixed up Baloo the fur flies.\",\n",
       " 'Rebecca who is trying to save him from having an accident.',\n",
       " 'Baloo inherits a cursed castle.']"
      ]
     },
     "execution_count": 14,
     "metadata": {},
     "output_type": "execute_result"
    }
   ],
   "source": [
    "markov_generate_from_lines_in_file(9, open(\"../scraping/plotsummaries.txt\"), 50, \"char\", max_gen=300)"
   ]
  },
  {
   "cell_type": "code",
   "execution_count": 2,
   "metadata": {},
   "outputs": [],
   "source": [
    "import spacy"
   ]
  },
  {
   "cell_type": "code",
   "execution_count": 3,
   "metadata": {},
   "outputs": [],
   "source": [
    "nlp = spacy.load('en_core_web_md')"
   ]
  },
  {
   "cell_type": "code",
   "execution_count": 4,
   "metadata": {},
   "outputs": [],
   "source": [
    "plots = open('../scraping/plotsummaries.txt')"
   ]
  },
  {
   "cell_type": "code",
   "execution_count": 6,
   "metadata": {},
   "outputs": [],
   "source": [
    "plot_lines = [line for line in open('../scraping/plotsummaries.txt')]"
   ]
  },
  {
   "cell_type": "code",
   "execution_count": 12,
   "metadata": {},
   "outputs": [],
   "source": [
    "all_plot = ' '.join(plot_lines)"
   ]
  },
  {
   "cell_type": "code",
   "execution_count": 16,
   "metadata": {},
   "outputs": [],
   "source": [
    "models = [ nlp(item) for item in plot_lines]"
   ]
  },
  {
   "cell_type": "code",
   "execution_count": 24,
   "metadata": {},
   "outputs": [],
   "source": [
    "model = nlp(all_plot)"
   ]
  },
  {
   "cell_type": "code",
   "execution_count": 39,
   "metadata": {},
   "outputs": [
    {
     "data": {
      "text/plain": [
       "154"
      ]
     },
     "execution_count": 39,
     "metadata": {},
     "output_type": "execute_result"
    }
   ],
   "source": [
    "from spacy.symbols import nsubj, VERB\n",
    "verbs = []\n",
    "for possible_verb in model:\n",
    "    if possible_verb.pos == VERB:\n",
    "        for possible_subject in possible_verb.children:\n",
    "            if possible_subject.dep == nsubj:\n",
    "                verbs.append(possible_verb)\n",
    "                break\n",
    "len(verbs)"
   ]
  },
  {
   "cell_type": "code",
   "execution_count": 46,
   "metadata": {},
   "outputs": [],
   "source": [
    "f=open(\"verbs.txt\",'w')\n",
    "for verb in verbs:\n",
    "    f.write(verb.text + \"\\n\")\n",
    "f.close()"
   ]
  },
  {
   "cell_type": "code",
   "execution_count": 38,
   "metadata": {},
   "outputs": [
    {
     "data": {
      "text/plain": [
       "385"
      ]
     },
     "execution_count": 38,
     "metadata": {},
     "output_type": "execute_result"
    }
   ],
   "source": [
    "from spacy.symbols import NOUN\n",
    "nouns = []\n",
    "for possible_noun in model:\n",
    "    if possible_noun.pos == NOUN:\n",
    "        nouns.append(possible_noun)\n",
    "len(nouns)"
   ]
  },
  {
   "cell_type": "code",
   "execution_count": 47,
   "metadata": {},
   "outputs": [],
   "source": [
    "f=open(\"nouns.txt\",'w')\n",
    "for noun in nouns:\n",
    "    f.write(noun.text + \"\\n\")\n",
    "f.close()"
   ]
  },
  {
   "cell_type": "code",
   "execution_count": 37,
   "metadata": {},
   "outputs": [
    {
     "data": {
      "text/plain": [
       "172"
      ]
     },
     "execution_count": 37,
     "metadata": {},
     "output_type": "execute_result"
    }
   ],
   "source": [
    "from spacy.symbols import ADJ\n",
    "adjectives = []\n",
    "for possible_adjective in model:\n",
    "    if possible_adjective.pos == ADJ:\n",
    "        adjectives.append(possible_adjective)\n",
    "len(adjectives)"
   ]
  },
  {
   "cell_type": "code",
   "execution_count": 48,
   "metadata": {},
   "outputs": [],
   "source": [
    "f=open(\"adjectives.txt\",'w')\n",
    "for adjective in adjectives:\n",
    "    f.write(adjective.text + \"\\n\")\n",
    "f.close()"
   ]
  },
  {
   "cell_type": "code",
   "execution_count": 36,
   "metadata": {},
   "outputs": [
    {
     "data": {
      "text/plain": [
       "92"
      ]
     },
     "execution_count": 36,
     "metadata": {},
     "output_type": "execute_result"
    }
   ],
   "source": [
    "from spacy.symbols import ADV\n",
    "adverbs = []\n",
    "for possible_adverb in model:\n",
    "    if possible_adverb.pos == ADV:\n",
    "        adverbs.append(possible_adverb)\n",
    "len(adverbs)"
   ]
  },
  {
   "cell_type": "code",
   "execution_count": 49,
   "metadata": {},
   "outputs": [],
   "source": [
    "f=open(\"adverbs.txt\",'w')\n",
    "for adverb in adverbs:\n",
    "    f.write(adverb.text + \"\\n\")\n",
    "f.close()"
   ]
  },
  {
   "cell_type": "code",
   "execution_count": null,
   "metadata": {},
   "outputs": [],
   "source": []
  },
  {
   "cell_type": "code",
   "execution_count": null,
   "metadata": {},
   "outputs": [],
   "source": []
  }
 ],
 "metadata": {
  "kernelspec": {
   "display_name": "Python [conda root]",
   "language": "python",
   "name": "conda-root-py"
  },
  "language_info": {
   "codemirror_mode": {
    "name": "ipython",
    "version": 3
   },
   "file_extension": ".py",
   "mimetype": "text/x-python",
   "name": "python",
   "nbconvert_exporter": "python",
   "pygments_lexer": "ipython3",
   "version": "3.5.3"
  }
 },
 "nbformat": 4,
 "nbformat_minor": 2
}
