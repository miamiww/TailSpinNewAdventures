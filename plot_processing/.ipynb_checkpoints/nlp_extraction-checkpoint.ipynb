{
 "cells": [
  {
   "cell_type": "code",
   "execution_count": 1,
   "metadata": {},
   "outputs": [],
   "source": [
    "from shmarkov import *"
   ]
  },
  {
   "cell_type": "code",
   "execution_count": 2,
   "metadata": {},
   "outputs": [
    {
     "data": {
      "text/plain": [
       "[\"Baloo wants to go to a big party at Louie's Island where he meets Baloo to transport dangerous criminal baby \",\n",
       " \"Kit's friend, the nerdish Oscar Van Der Snoot, is rejected for membership into the ocean. It is now up to his\",\n",
       " \"Mistaken told that he can't follow instructions to never look at it during a thunderstorm. They do just that \",\n",
       " \"Baloo saves Kahn's life and in turn Kahn promises Baloo and Louie race into Higher for Hire with a frantic st\",\n",
       " \"Rebecca doesn't listen to Rebecca that her daughter Molly is safe with him. However her ace pilot Baloo and L\",\n",
       " \"Professor O'Bowens gives Baloo and Kit are captured by the rich snobs Muffy and Buffy. Rebeca and Baloo find \",\n",
       " 'Caught in a speed trap over a small isolated mining the rare and highly explosive mineral Yurgonium.',\n",
       " \"Covington pretends to romance Rebecca to the Pilot's Ball, Baloo quits his job and flies away. Meanwhile, Don\",\n",
       " \"Baloo saves Kahn's life and in turn Kahn promises of time together have left Molly disillusioned and alienate\",\n",
       " 'Covington pretends to romance Rebecca to obtain a doll which Molly makes difficult to get his diploma.',\n",
       " 'When a safari guide tells Baloo he must fulfill his \"destiny\" to find and destroy the powerful \"Idol of Doom\"',\n",
       " 'After swearing off women and crazy treasure chest of captain wan too many. Inside the walled gates of Macadam',\n",
       " \"Baloo and Louie go into the Jungle Aces Secret Midnight Club because he hasn't had an adventure.\",\n",
       " 'Kit & Baloo decides to visit a famous fat farm, the Elizabeth Tapir Center.',\n",
       " 'Planes and pilots and are mysteriously going missing. So Shere Kahn dupes the dimwitted Baloo and Wildcat are',\n",
       " \"Rebecca's broken promises Rebecca great embarrassment.\",\n",
       " \"After Baloo's license is temporarily suspended while trying to save him from having an accident.\",\n",
       " \"All hell breaks loose at Louie's when his aunt, Louise L'Amour comes to visit. Baloo and Don Karnage and his \",\n",
       " \"To convince a disbelieving Molly there really is a Santa Claus, Baloo flies her to the 'North Pole' to delive\",\n",
       " 'During a brawl in the Sea Duck and use it to infiltrate.']"
      ]
     },
     "execution_count": 2,
     "metadata": {},
     "output_type": "execute_result"
    }
   ],
   "source": [
    "markov_generate_from_lines_in_file(9, open(\"../scraping/plotsummaries.txt\"), 50, \"char\")"
   ]
  },
  {
   "cell_type": "code",
   "execution_count": 9,
   "metadata": {},
   "outputs": [
    {
     "data": {
      "text/plain": [
       "[\"To convince Rebecca's broken promises the Spirit Switching too trusting an adventure, Baloo problem is to\",\n",
       " 'Baloo lets his boss.',\n",
       " \"Kit's presumed betrayal, Baloo and a whale and outside to works for Hire attempts to work for Louise L'Am\",\n",
       " \"Kit's profit to tackle his greed gets his tuxedo so he can retrieve that he can't get into the doctor's s\",\n",
       " \"Kit is heart set on two of a ghost at Louie's, Rebecca's latest pilot's Baloo and highly explosive diamon\",\n",
       " 'When Baloo many. Inside to a big bucks!',\n",
       " \"Vacationing the doctor's shrinking it he can escort Rebecca to the other $50, Baloo inherits a cursed cas\",\n",
       " 'In order the rich snobs Muffy and it turns around.',\n",
       " \"It's bear vs machine when expensive diamonds go misses the tiny cargo hold, Baloo at every businessment.\",\n",
       " 'When Baloo quits his tuxedo so he can retrieve the dimwitted Baloo is enlisten to the Sea Duck,\" Molly da',\n",
       " 'When Rick learns of his memory of pirates. The can retrieve that Kit Cloudkicker steal his fails his boss',\n",
       " \"Becky's latest accordance to the little colonel Spigot. Can Baloo again, El Gato.\",\n",
       " 'Baloo and the gang of prehistoric proportions the easy way, and in the ritzy party, cause he was cracked ',\n",
       " 'Rebecca decides to record gets stolen by the Jungle Aces Secret Midnight Clubhouse are splashed a few pou',\n",
       " 'Baloo again, El Gato.',\n",
       " 'In order to turn but Rebecca lines up with an daring bomb.',\n",
       " 'Baloo flying and decide to write record gets stolen by the beasts and is invention for the Spirit Switche',\n",
       " 'Planes and Baloo and Louie loses his first.',\n",
       " 'Frustrated mining Baloo fly,\" but is anxious to transport danger.',\n",
       " \"To convince a disbelieve it-just adore her, but a Thembrian pilot's life and takes and Baloo quickly been\",\n",
       " \"Rebecca's broke and Baloo lets his reprimanded by a vat of the arches force if necessary.\",\n",
       " \"Baloo's favorite the Jungle Aces Secret Midnight in as his first.\",\n",
       " 'All hell breaks loose at the riskiness in jeopardy. Can Baloo has a new get-rich-quickly becomes stuck to',\n",
       " \"Professor O'Bowens gives Baloo and much to the riskinesswoman, Baloo decides to record get his tuxedo so \",\n",
       " 'When Baloo lets his fails all of the gang off women and is really Saturday. Solution: convince Rebecca do',\n",
       " 'A young orphan Kit Cloudkicker to go on a date for hire for a moving an accident.',\n",
       " \"It's money making into the gave Kit there really finds a gem-like comic book hero.\",\n",
       " 'Baloo and open a gas station is to deliver a Housewarming Present to be a hands on.',\n",
       " 'When Baloo loses his pilot\\'s latest money into delivering ace from the Sea Duck,\" Molly from the deadline',\n",
       " \"Kit and take a surrogate mother from Don Karnage's priced at $100,000 in they help protect her own, Jack \",\n",
       " 'Frustrate.',\n",
       " \"Wildcat find a sightseeing tour to get his job for the Bear, a carefree cargo, incurring both Rebecca's b\",\n",
       " 'When Rebecca Friday is safe keeping a thunder to go to turns around.',\n",
       " \"Baloo, Kit quickly becomes to obtain he'll have a lost valley of his greed get a date for the two's cater\",\n",
       " \"It's a lesson in the air. Louie are put to get the Jungle Aces Secret Midnight of captured by there's on \",\n",
       " 'Rebecca take a suicidally Saturday.',\n",
       " 'Rebecca\\'s broke and the Thembrian Higher from the powerful \"Idol of the riskiness in jeopardy. Can Baloo ',\n",
       " 'Baloo to takes the seaduck by using your brawn?',\n",
       " \"Baloo and her to 'Santa' in person.\",\n",
       " \"When Karnage's presumed betrayal, Baloo missing adventure, Baloo and get his Air Pirates star struck and \",\n",
       " 'Kit & Baloo and Louie are enthralled with him. However, is safe with they do just that he catch is, if he',\n",
       " 'Baloo has another job for the lair, the city.',\n",
       " 'Planes annoyed with an daring off women and a whale and Baloo enters a race into the Sea Duck is chased t',\n",
       " 'Wildcat baby-sitting a famous local Richelieu, Chancellor Trample. They have no prove the better than a m',\n",
       " \"It's missing. So Shere she is attached to his he all he catch is, if he fails all of time together.\",\n",
       " 'When she search of glory Baloo and hero come to sees dinosaur-sized profit to be made.',\n",
       " \"Baloo and sets out to promises Rebeca and Baloo wanted by the riskiness, Karnage's pirate don Karnage & h\",\n",
       " 'Baloo sees difficult to work.',\n",
       " 'Kit is rejected for Baloo enters at the other for safe with him. However her letter the gave Kit quickly ',\n",
       " 'Baloo is enlisted to them to escape.']"
      ]
     },
     "execution_count": 9,
     "metadata": {},
     "output_type": "execute_result"
    }
   ],
   "source": [
    "markov_generate_from_lines_in_file(9, open(\"../scraping/plotsummaries.txt\"), 50, \"char\")"
   ]
  },
  {
   "cell_type": "code",
   "execution_count": 2,
   "metadata": {},
   "outputs": [],
   "source": [
    "import spacy"
   ]
  },
  {
   "cell_type": "code",
   "execution_count": 3,
   "metadata": {},
   "outputs": [],
   "source": [
    "nlp = spacy.load('en_core_web_md')"
   ]
  },
  {
   "cell_type": "code",
   "execution_count": 4,
   "metadata": {},
   "outputs": [],
   "source": [
    "plots = open('../scraping/plotsummaries.txt')"
   ]
  },
  {
   "cell_type": "code",
   "execution_count": 6,
   "metadata": {},
   "outputs": [],
   "source": [
    "plot_lines = [line for line in open('../scraping/plotsummaries.txt')]"
   ]
  },
  {
   "cell_type": "code",
   "execution_count": 12,
   "metadata": {},
   "outputs": [],
   "source": [
    "all_plot = ' '.join(plot_lines)"
   ]
  },
  {
   "cell_type": "code",
   "execution_count": 16,
   "metadata": {},
   "outputs": [],
   "source": [
    "models = [ nlp(item) for item in plot_lines]"
   ]
  },
  {
   "cell_type": "code",
   "execution_count": 24,
   "metadata": {},
   "outputs": [],
   "source": [
    "model = nlp(all_plot)"
   ]
  },
  {
   "cell_type": "code",
   "execution_count": 39,
   "metadata": {},
   "outputs": [
    {
     "data": {
      "text/plain": [
       "154"
      ]
     },
     "execution_count": 39,
     "metadata": {},
     "output_type": "execute_result"
    }
   ],
   "source": [
    "from spacy.symbols import nsubj, VERB\n",
    "verbs = []\n",
    "for possible_verb in model:\n",
    "    if possible_verb.pos == VERB:\n",
    "        for possible_subject in possible_verb.children:\n",
    "            if possible_subject.dep == nsubj:\n",
    "                verbs.append(possible_verb)\n",
    "                break\n",
    "len(verbs)"
   ]
  },
  {
   "cell_type": "code",
   "execution_count": 46,
   "metadata": {},
   "outputs": [],
   "source": [
    "f=open(\"verbs.txt\",'w')\n",
    "for verb in verbs:\n",
    "    f.write(verb.text + \"\\n\")\n",
    "f.close()"
   ]
  },
  {
   "cell_type": "code",
   "execution_count": 38,
   "metadata": {},
   "outputs": [
    {
     "data": {
      "text/plain": [
       "385"
      ]
     },
     "execution_count": 38,
     "metadata": {},
     "output_type": "execute_result"
    }
   ],
   "source": [
    "from spacy.symbols import NOUN\n",
    "nouns = []\n",
    "for possible_noun in model:\n",
    "    if possible_noun.pos == NOUN:\n",
    "        nouns.append(possible_noun)\n",
    "len(nouns)"
   ]
  },
  {
   "cell_type": "code",
   "execution_count": 47,
   "metadata": {},
   "outputs": [],
   "source": [
    "f=open(\"nouns.txt\",'w')\n",
    "for noun in nouns:\n",
    "    f.write(noun.text + \"\\n\")\n",
    "f.close()"
   ]
  },
  {
   "cell_type": "code",
   "execution_count": 37,
   "metadata": {},
   "outputs": [
    {
     "data": {
      "text/plain": [
       "172"
      ]
     },
     "execution_count": 37,
     "metadata": {},
     "output_type": "execute_result"
    }
   ],
   "source": [
    "from spacy.symbols import ADJ\n",
    "adjectives = []\n",
    "for possible_adjective in model:\n",
    "    if possible_adjective.pos == ADJ:\n",
    "        adjectives.append(possible_adjective)\n",
    "len(adjectives)"
   ]
  },
  {
   "cell_type": "code",
   "execution_count": 48,
   "metadata": {},
   "outputs": [],
   "source": [
    "f=open(\"adjectives.txt\",'w')\n",
    "for adjective in adjectives:\n",
    "    f.write(adjective.text + \"\\n\")\n",
    "f.close()"
   ]
  },
  {
   "cell_type": "code",
   "execution_count": 36,
   "metadata": {},
   "outputs": [
    {
     "data": {
      "text/plain": [
       "92"
      ]
     },
     "execution_count": 36,
     "metadata": {},
     "output_type": "execute_result"
    }
   ],
   "source": [
    "from spacy.symbols import ADV\n",
    "adverbs = []\n",
    "for possible_adverb in model:\n",
    "    if possible_adverb.pos == ADV:\n",
    "        adverbs.append(possible_adverb)\n",
    "len(adverbs)"
   ]
  },
  {
   "cell_type": "code",
   "execution_count": 49,
   "metadata": {},
   "outputs": [],
   "source": [
    "f=open(\"adverbs.txt\",'w')\n",
    "for adverb in adverbs:\n",
    "    f.write(adverb.text + \"\\n\")\n",
    "f.close()"
   ]
  },
  {
   "cell_type": "code",
   "execution_count": null,
   "metadata": {},
   "outputs": [],
   "source": []
  },
  {
   "cell_type": "code",
   "execution_count": null,
   "metadata": {},
   "outputs": [],
   "source": []
  }
 ],
 "metadata": {
  "kernelspec": {
   "display_name": "Python [conda root]",
   "language": "python",
   "name": "conda-root-py"
  },
  "language_info": {
   "codemirror_mode": {
    "name": "ipython",
    "version": 3
   },
   "file_extension": ".py",
   "mimetype": "text/x-python",
   "name": "python",
   "nbconvert_exporter": "python",
   "pygments_lexer": "ipython3",
   "version": "3.5.3"
  }
 },
 "nbformat": 4,
 "nbformat_minor": 2
}
