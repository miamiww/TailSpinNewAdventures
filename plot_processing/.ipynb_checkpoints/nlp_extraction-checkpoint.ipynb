{
 "cells": [
  {
   "cell_type": "code",
   "execution_count": 1,
   "metadata": {},
   "outputs": [],
   "source": [
    "from shmarkov import *"
   ]
  },
  {
   "cell_type": "code",
   "execution_count": 2,
   "metadata": {},
   "outputs": [
    {
     "data": {
      "text/plain": [
       "[\"Baloo wants to go to a big party at Louie's Island where he meets Baloo to transport dangerous criminal baby \",\n",
       " \"Kit's friend, the nerdish Oscar Van Der Snoot, is rejected for membership into the ocean. It is now up to his\",\n",
       " \"Mistaken told that he can't follow instructions to never look at it during a thunderstorm. They do just that \",\n",
       " \"Baloo saves Kahn's life and in turn Kahn promises Baloo and Louie race into Higher for Hire with a frantic st\",\n",
       " \"Rebecca doesn't listen to Rebecca that her daughter Molly is safe with him. However her ace pilot Baloo and L\",\n",
       " \"Professor O'Bowens gives Baloo and Kit are captured by the rich snobs Muffy and Buffy. Rebeca and Baloo find \",\n",
       " 'Caught in a speed trap over a small isolated mining the rare and highly explosive mineral Yurgonium.',\n",
       " \"Covington pretends to romance Rebecca to the Pilot's Ball, Baloo quits his job and flies away. Meanwhile, Don\",\n",
       " \"Baloo saves Kahn's life and in turn Kahn promises of time together have left Molly disillusioned and alienate\",\n",
       " 'Covington pretends to romance Rebecca to obtain a doll which Molly makes difficult to get his diploma.',\n",
       " 'When a safari guide tells Baloo he must fulfill his \"destiny\" to find and destroy the powerful \"Idol of Doom\"',\n",
       " 'After swearing off women and crazy treasure chest of captain wan too many. Inside the walled gates of Macadam',\n",
       " \"Baloo and Louie go into the Jungle Aces Secret Midnight Club because he hasn't had an adventure.\",\n",
       " 'Kit & Baloo decides to visit a famous fat farm, the Elizabeth Tapir Center.',\n",
       " 'Planes and pilots and are mysteriously going missing. So Shere Kahn dupes the dimwitted Baloo and Wildcat are',\n",
       " \"Rebecca's broken promises Rebecca great embarrassment.\",\n",
       " \"After Baloo's license is temporarily suspended while trying to save him from having an accident.\",\n",
       " \"All hell breaks loose at Louie's when his aunt, Louise L'Amour comes to visit. Baloo and Don Karnage and his \",\n",
       " \"To convince a disbelieving Molly there really is a Santa Claus, Baloo flies her to the 'North Pole' to delive\",\n",
       " 'During a brawl in the Sea Duck and use it to infiltrate.']"
      ]
     },
     "execution_count": 2,
     "metadata": {},
     "output_type": "execute_result"
    }
   ],
   "source": [
    "markov_generate_from_lines_in_file(9, open(\"../scraping/plotsummaries.txt\"), 50, \"char\")"
   ]
  },
  {
   "cell_type": "code",
   "execution_count": 5,
   "metadata": {},
   "outputs": [
    {
     "data": {
      "text/plain": [
       "[\"Baloo has a new get-rich-quick scheme: sell hot dogs at the Jungle Aces Secret Midnight Club because he hasn'\",\n",
       " 'Rebecca lines up delivery business. However her ace pilot Baloo and Louie are instantly caught up with Katie ',\n",
       " \"Still smarting from Kit's presumed betrayal, Baloo has a new get-rich-quick scheme: sell hot dogs at the Jung\",\n",
       " 'Baloo inherits a cursed castle.',\n",
       " \"After Baloo's license expire but is certain he'll have no problem for the other $50, Baloo promises of time t\",\n",
       " 'Mistaken told that he is dying, Baloo and the ownership of the seaduck becomes in jeopardy. Can Louie the mon',\n",
       " 'Wildcat babysits Molly, and the two find out they have a lot in common - particularly their active imaginatio',\n",
       " \"Baloo saves Kahn's life and in turn Kahn promises to turn Kit's money into a fortune the easy way, and give K\",\n",
       " 'Baloo is enlisted to deliver a Housewarming Present to the Thembria has just lowered their flying ace from th',\n",
       " 'Vacationing Baloo and Louie are instantly caught up with an daring bush pilot against a robot pilot to prove ',\n",
       " \"Baloo and her navigator Kit can't spell worth beans. This spells trouble when expensive diamonds go missing a\",\n",
       " 'When Baloo loses his customers.',\n",
       " \"Rebecca doesn't believe it-just another job for him: moving a piano to a house at the top of a hill.\",\n",
       " 'A young orphan cub with a valuable jewel hooks up with an daring bush pilot against Air Pirates. But while sn',\n",
       " \"While delivering paper weights for princess Grace, Baloo anything he wants. Trouble soon follows when Baloo's\",\n",
       " 'When orphan Kit Cloudkicker steals a gem-like treasure hunting, Baloo decide to rescue Rebecca that her daugh',\n",
       " \"Still smarting from Kit's presumed betrayal, Baloo quickly becomes attached to and Baloo quickly becomes atta\",\n",
       " 'Wildcat babysits Molly, and the ownership of the seaduck becomes annoyed with. The parrot however knows of a ',\n",
       " 'Baloo wants to see snow.',\n",
       " 'It\\'s misunderstandings and mix ups galore for Baloo, but the \"overworked\" bear has his heart set on two weeks',\n",
       " 'Baloo and Don Karnage. They help find her a pyramid, mysterious old flight instructor can restore them.',\n",
       " 'Covington pretends to romance Rebecca Friday is really Saturday. Solution: convince a disbelieving Molly ther',\n",
       " 'Covington pretends to romance Rebecca that her daughter Molly is safe with him. However her ace pilot Baloo a',\n",
       " \"Rebecca's broken promises Baloo at every turn but who when the two's cargo hold, Baloo and kit search for a l\",\n",
       " 'When Baloo and Don Karnage. They help find her a pyramid, mysteriously going missing. So Shere Kahn dupes the',\n",
       " \"Professor O'Bowens gives Baloo and Louie are instantly trusting a complete stranger of her own, Jack Case, a \",\n",
       " 'Rebecca who is trying to evade air pirates. The move causes havoc as Higher for Hire attempts to deliver a Ho',\n",
       " 'Rebecca lines up delivery jobs galore when Becky gets Baloo flying onto the Cliff Gun Embankments to deliver ',\n",
       " 'In order to squeeze into his tuxedo so he can escort Rebecca takes over flying ace from prison.',\n",
       " \"Baloo's favorite record gets smashed and it turns out there's only one more record gets smashed and it turns \",\n",
       " 'Kit is reprimanded by Baloo for being \"too young to fly,\" but a Thembrian pilot informs Kit that Thembrian Hi',\n",
       " \"When Baloo's friend Buzz, an inventor at Khan Industries, overhears someone plotting to steal his invention, \",\n",
       " 'Baloo and Louie race into Higher for Hire attempts to delivering a ticking bomb.',\n",
       " 'In order to squeeze into his tuxedo so he can escort Rebecca Cunningham buys the tiny cargo company.',\n",
       " 'Baloo and Kit buy the treasure and that makes him wanted by the villainous Don Karnage and his gang of pirate',\n",
       " 'Frustrated with the beating his reputation is taking because of him crashing the Sea Duck and sets out to be ',\n",
       " 'Kit and Baloo get it back by using the advice he gave Kit about using your brain instead of your brain instea',\n",
       " 'Baloo inherits a cursed castle.',\n",
       " 'Baloo and Wildcat reads Molly a story, \"Flight of the Spirit Switcher with instructions and a sightseeing tou',\n",
       " \"All hell breaks loose at Louie's when his aunt, Louise L'Amour comes to work for the Cape Suzette in grave da\",\n",
       " \"A fortune-teller tells Baloo of a lost valley of prehistoric proportions, Baloo flies her to the 'North Pole'\",\n",
       " \"Baloo rescues a pilot who claims he's a spy.\",\n",
       " 'Baloo and Wildcat are put to work for the city beyond the last horizon. After finding it he unknowingly puts ',\n",
       " \"Kit's friend Buzz, an inventor at Khan Industries, overhears someone plotting to steal his invention for safe\",\n",
       " \"Professor O'Bowens gives Baloo and Louie are instantly caught up with Katie Dodd, archaeologist, and her navi\",\n",
       " 'After Baloo is enlisted to delivering paper weights for princess Grace, Baloo anything he wants. Trouble soon',\n",
       " 'Kit & Baloo decide to set him free.',\n",
       " \"When Baloo anything he wants. Trouble soon follows when Baloo's faces old flying rival the blowhard boaster A\",\n",
       " 'Vacationing Baloo and Kit the idol of the pilots in Cape susette will be out of work.',\n",
       " \"While snooping around an old building, Molly falls into an eccentric scientist's lab. There she gets hired by\"]"
      ]
     },
     "execution_count": 5,
     "metadata": {},
     "output_type": "execute_result"
    }
   ],
   "source": [
    "markov_generate_from_lines_in_file(9, open(\"../scraping/plotsummaries.txt\"), 50, \"char\")"
   ]
  },
  {
   "cell_type": "code",
   "execution_count": 2,
   "metadata": {},
   "outputs": [],
   "source": [
    "import spacy"
   ]
  },
  {
   "cell_type": "code",
   "execution_count": 3,
   "metadata": {},
   "outputs": [],
   "source": [
    "nlp = spacy.load('en_core_web_md')"
   ]
  },
  {
   "cell_type": "code",
   "execution_count": 4,
   "metadata": {},
   "outputs": [],
   "source": [
    "plots = open('../scraping/plotsummaries.txt')"
   ]
  },
  {
   "cell_type": "code",
   "execution_count": 6,
   "metadata": {},
   "outputs": [],
   "source": [
    "plot_lines = [line for line in open('../scraping/plotsummaries.txt')]"
   ]
  },
  {
   "cell_type": "code",
   "execution_count": 12,
   "metadata": {},
   "outputs": [],
   "source": [
    "all_plot = ' '.join(plot_lines)"
   ]
  },
  {
   "cell_type": "code",
   "execution_count": 16,
   "metadata": {},
   "outputs": [],
   "source": [
    "models = [ nlp(item) for item in plot_lines]"
   ]
  },
  {
   "cell_type": "code",
   "execution_count": 24,
   "metadata": {},
   "outputs": [],
   "source": [
    "model = nlp(all_plot)"
   ]
  },
  {
   "cell_type": "code",
   "execution_count": 39,
   "metadata": {},
   "outputs": [
    {
     "data": {
      "text/plain": [
       "154"
      ]
     },
     "execution_count": 39,
     "metadata": {},
     "output_type": "execute_result"
    }
   ],
   "source": [
    "from spacy.symbols import nsubj, VERB\n",
    "verbs = []\n",
    "for possible_verb in model:\n",
    "    if possible_verb.pos == VERB:\n",
    "        for possible_subject in possible_verb.children:\n",
    "            if possible_subject.dep == nsubj:\n",
    "                verbs.append(possible_verb)\n",
    "                break\n",
    "len(verbs)"
   ]
  },
  {
   "cell_type": "code",
   "execution_count": 46,
   "metadata": {},
   "outputs": [],
   "source": [
    "f=open(\"verbs.txt\",'w')\n",
    "for verb in verbs:\n",
    "    f.write(verb.text + \"\\n\")\n",
    "f.close()"
   ]
  },
  {
   "cell_type": "code",
   "execution_count": 38,
   "metadata": {},
   "outputs": [
    {
     "data": {
      "text/plain": [
       "385"
      ]
     },
     "execution_count": 38,
     "metadata": {},
     "output_type": "execute_result"
    }
   ],
   "source": [
    "from spacy.symbols import NOUN\n",
    "nouns = []\n",
    "for possible_noun in model:\n",
    "    if possible_noun.pos == NOUN:\n",
    "        nouns.append(possible_noun)\n",
    "len(nouns)"
   ]
  },
  {
   "cell_type": "code",
   "execution_count": 47,
   "metadata": {},
   "outputs": [],
   "source": [
    "f=open(\"nouns.txt\",'w')\n",
    "for noun in nouns:\n",
    "    f.write(noun.text + \"\\n\")\n",
    "f.close()"
   ]
  },
  {
   "cell_type": "code",
   "execution_count": 37,
   "metadata": {},
   "outputs": [
    {
     "data": {
      "text/plain": [
       "172"
      ]
     },
     "execution_count": 37,
     "metadata": {},
     "output_type": "execute_result"
    }
   ],
   "source": [
    "from spacy.symbols import ADJ\n",
    "adjectives = []\n",
    "for possible_adjective in model:\n",
    "    if possible_adjective.pos == ADJ:\n",
    "        adjectives.append(possible_adjective)\n",
    "len(adjectives)"
   ]
  },
  {
   "cell_type": "code",
   "execution_count": 48,
   "metadata": {},
   "outputs": [],
   "source": [
    "f=open(\"adjectives.txt\",'w')\n",
    "for adjective in adjectives:\n",
    "    f.write(adjective.text + \"\\n\")\n",
    "f.close()"
   ]
  },
  {
   "cell_type": "code",
   "execution_count": 36,
   "metadata": {},
   "outputs": [
    {
     "data": {
      "text/plain": [
       "92"
      ]
     },
     "execution_count": 36,
     "metadata": {},
     "output_type": "execute_result"
    }
   ],
   "source": [
    "from spacy.symbols import ADV\n",
    "adverbs = []\n",
    "for possible_adverb in model:\n",
    "    if possible_adverb.pos == ADV:\n",
    "        adverbs.append(possible_adverb)\n",
    "len(adverbs)"
   ]
  },
  {
   "cell_type": "code",
   "execution_count": 49,
   "metadata": {},
   "outputs": [],
   "source": [
    "f=open(\"adverbs.txt\",'w')\n",
    "for adverb in adverbs:\n",
    "    f.write(adverb.text + \"\\n\")\n",
    "f.close()"
   ]
  },
  {
   "cell_type": "code",
   "execution_count": null,
   "metadata": {},
   "outputs": [],
   "source": []
  },
  {
   "cell_type": "code",
   "execution_count": null,
   "metadata": {},
   "outputs": [],
   "source": []
  }
 ],
 "metadata": {
  "kernelspec": {
   "display_name": "Python [conda root]",
   "language": "python",
   "name": "conda-root-py"
  },
  "language_info": {
   "codemirror_mode": {
    "name": "ipython",
    "version": 3
   },
   "file_extension": ".py",
   "mimetype": "text/x-python",
   "name": "python",
   "nbconvert_exporter": "python",
   "pygments_lexer": "ipython3",
   "version": "3.5.3"
  }
 },
 "nbformat": 4,
 "nbformat_minor": 2
}
